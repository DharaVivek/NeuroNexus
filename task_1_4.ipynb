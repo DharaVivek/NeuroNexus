{
  "metadata": {
    "kernelspec": {
      "language": "python",
      "display_name": "Python 3",
      "name": "python3"
    },
    "language_info": {
      "pygments_lexer": "ipython3",
      "nbconvert_exporter": "python",
      "version": "3.6.4",
      "file_extension": ".py",
      "codemirror_mode": {
        "name": "ipython",
        "version": 3
      },
      "name": "python",
      "mimetype": "text/x-python"
    },
    "kaggle": {
      "accelerator": "none",
      "dataSources": [
        {
          "sourceId": 982,
          "sourceType": "datasetVersion",
          "datasetId": 483
        }
      ],
      "dockerImageVersionId": 30558,
      "isInternetEnabled": false,
      "language": "python",
      "sourceType": "notebook",
      "isGpuEnabled": false
    },
    "colab": {
      "provenance": [],
      "include_colab_link": true
    }
  },
  "nbformat_minor": 0,
  "nbformat": 4,
  "cells": [
    {
      "cell_type": "markdown",
      "metadata": {
        "id": "view-in-github",
        "colab_type": "text"
      },
      "source": [
        "<a href=\"https://colab.research.google.com/github/DharaVivek/NeuroNexus/blob/main/task_1_4.ipynb\" target=\"_parent\"><img src=\"https://colab.research.google.com/assets/colab-badge.svg\" alt=\"Open In Colab\"/></a>"
      ]
    },
    {
      "cell_type": "markdown",
      "source": [
        "TASK 4\n",
        "SPAM SMS DETECTION"
      ],
      "metadata": {
        "id": "12MsTEGTSbV0"
      }
    },
    {
      "cell_type": "markdown",
      "source": [
        " Step 1 : Import Necessary Libraries:\n",
        "\n",
        " Start by importing the libraries you'll need, such as pandas, numpy, nltk, and scikit-learn. These libraries will help you handle and analyze the data effectively."
      ],
      "metadata": {
        "id": "qF5IPyAYSbV3"
      }
    },
    {
      "cell_type": "code",
      "source": [
        "import pandas as pd\n",
        "import numpy as np\n",
        "import nltk\n",
        "from sklearn.model_selection import train_test_split\n",
        "from sklearn.feature_extraction.text import CountVectorizer, TfidfVectorizer\n",
        "from sklearn.naive_bayes import MultinomialNB\n",
        "from sklearn.metrics import accuracy_score, confusion_matrix, classification_report\n",
        "import seaborn as sns\n",
        "import matplotlib.pyplot as plt"
      ],
      "metadata": {
        "execution": {
          "iopub.status.busy": "2023-11-06T15:19:20.347307Z",
          "iopub.execute_input": "2023-11-06T15:19:20.348191Z",
          "iopub.status.idle": "2023-11-06T15:19:20.353811Z",
          "shell.execute_reply.started": "2023-11-06T15:19:20.348148Z",
          "shell.execute_reply": "2023-11-06T15:19:20.352691Z"
        },
        "trusted": true,
        "id": "gDEsjRsjSbV4"
      },
      "execution_count": 1,
      "outputs": []
    },
    {
      "cell_type": "markdown",
      "source": [
        "Step 2 : Load and Explore the Data:\n",
        "Load your spam dataset using pandas and explore it to understand its structure. This step is crucial for gaining insights into your data."
      ],
      "metadata": {
        "id": "szrXhaB4SbV5"
      }
    },
    {
      "cell_type": "code",
      "source": [
        "with open('/content/spam.csv', 'r', encoding='ISO-8859-1') as file:\n",
        "    first_row = file.readline().strip()\n",
        "    columns_with_data = [column.strip() for column in first_row.split(',') if column.strip() != '']\n",
        "\n",
        "data = pd.read_csv('/content/spam.csv', usecols=columns_with_data, encoding='ISO-8859-1')\n",
        "\n",
        "print(data.head())\n"
      ],
      "metadata": {
        "execution": {
          "iopub.status.busy": "2023-11-06T14:38:05.138201Z",
          "iopub.execute_input": "2023-11-06T14:38:05.138615Z",
          "iopub.status.idle": "2023-11-06T14:38:05.165155Z",
          "shell.execute_reply.started": "2023-11-06T14:38:05.138579Z",
          "shell.execute_reply": "2023-11-06T14:38:05.163926Z"
        },
        "trusted": true,
        "colab": {
          "base_uri": "https://localhost:8080/"
        },
        "id": "w25jqu-aSbV5",
        "outputId": "e04a8507-791a-4b1b-e425-e8f09572cc70"
      },
      "execution_count": 2,
      "outputs": [
        {
          "output_type": "stream",
          "name": "stdout",
          "text": [
            "     v1                                                 v2\n",
            "0   ham  Go until jurong point, crazy.. Available only ...\n",
            "1   ham                      Ok lar... Joking wif u oni...\n",
            "2  spam  Free entry in 2 a wkly comp to win FA Cup fina...\n",
            "3   ham  U dun say so early hor... U c already then say...\n",
            "4   ham  Nah I don't think he goes to usf, he lives aro...\n"
          ]
        }
      ]
    },
    {
      "cell_type": "markdown",
      "source": [
        "Step 3 : Data Preprocessing:\n",
        "Text data needs preprocessing, including removing special characters, converting to lowercase, and tokenization. You'll also need to label encode the target variable."
      ],
      "metadata": {
        "id": "8sx6xH3kSbV6"
      }
    },
    {
      "cell_type": "code",
      "source": [
        "from sklearn.preprocessing import LabelEncoder\n",
        "le = LabelEncoder()\n",
        "data['label'] = le.fit_transform(data['v1'])\n",
        "\n",
        "data['v2'] = data['v2'].str.lower()\n",
        "data['v2'] = data['v2'].str.replace('[^a-zA-Z]', ' ', regex=True)\n",
        "data['v2'] = data['v2'].str.split()\n",
        "\n"
      ],
      "metadata": {
        "execution": {
          "iopub.status.busy": "2023-11-06T14:41:23.471831Z",
          "iopub.execute_input": "2023-11-06T14:41:23.472264Z",
          "iopub.status.idle": "2023-11-06T14:41:23.542594Z",
          "shell.execute_reply.started": "2023-11-06T14:41:23.472229Z",
          "shell.execute_reply": "2023-11-06T14:41:23.541458Z"
        },
        "trusted": true,
        "id": "glykX8JNSbV6"
      },
      "execution_count": 3,
      "outputs": []
    },
    {
      "cell_type": "markdown",
      "source": [
        "Step 4 : Text Vectorization:\n",
        "Convert the text data into numerical features using techniques like Count Vectorization or TF-IDF Vectorization. This step is essential for machine learning algorithms."
      ],
      "metadata": {
        "id": "IIdLq3cKSbV6"
      }
    },
    {
      "cell_type": "code",
      "source": [
        "tfidf_vectorizer = TfidfVectorizer(max_features=5000)\n",
        "X = tfidf_vectorizer.fit_transform(data['v2'].apply(lambda x: ' '.join(x)))\n"
      ],
      "metadata": {
        "execution": {
          "iopub.status.busy": "2023-11-06T14:43:59.495513Z",
          "iopub.execute_input": "2023-11-06T14:43:59.49657Z",
          "iopub.status.idle": "2023-11-06T14:43:59.608513Z",
          "shell.execute_reply.started": "2023-11-06T14:43:59.496532Z",
          "shell.execute_reply": "2023-11-06T14:43:59.607159Z"
        },
        "trusted": true,
        "id": "jpcfqsZASbV7"
      },
      "execution_count": 4,
      "outputs": []
    },
    {
      "cell_type": "markdown",
      "source": [
        "Step 5 : Split the Data: Split your dataset into training and testing sets to evaluate the model's performance."
      ],
      "metadata": {
        "id": "Up_rIJiZSbV7"
      }
    },
    {
      "cell_type": "code",
      "source": [
        "X_train, X_test, y_train, y_test = train_test_split(X, data['v1'], test_size=0.2, random_state=42)\n"
      ],
      "metadata": {
        "execution": {
          "iopub.status.busy": "2023-11-06T14:44:40.569341Z",
          "iopub.execute_input": "2023-11-06T14:44:40.569877Z",
          "iopub.status.idle": "2023-11-06T14:44:40.58021Z",
          "shell.execute_reply.started": "2023-11-06T14:44:40.569834Z",
          "shell.execute_reply": "2023-11-06T14:44:40.579121Z"
        },
        "trusted": true,
        "id": "ptEEFITySbV7"
      },
      "execution_count": 5,
      "outputs": []
    },
    {
      "cell_type": "markdown",
      "source": [
        "Step 6 : Train a Model\n",
        "Use a suitable NLP model like Multinomial Naive Bayes to train your dataset. This model is commonly used for text classification tasks."
      ],
      "metadata": {
        "id": "YD4kTp6uSbV8"
      }
    },
    {
      "cell_type": "code",
      "source": [
        "model = MultinomialNB()\n",
        "model.fit(X_train, y_train)\n"
      ],
      "metadata": {
        "execution": {
          "iopub.status.busy": "2023-11-06T14:47:34.520829Z",
          "iopub.execute_input": "2023-11-06T14:47:34.521246Z",
          "iopub.status.idle": "2023-11-06T14:47:34.550868Z",
          "shell.execute_reply.started": "2023-11-06T14:47:34.52121Z",
          "shell.execute_reply": "2023-11-06T14:47:34.550099Z"
        },
        "trusted": true,
        "colab": {
          "base_uri": "https://localhost:8080/",
          "height": 74
        },
        "id": "pA50bjhuSbV8",
        "outputId": "0822cb5a-9382-40e9-9e02-9082223710df"
      },
      "execution_count": 6,
      "outputs": [
        {
          "output_type": "execute_result",
          "data": {
            "text/plain": [
              "MultinomialNB()"
            ],
            "text/html": [
              "<style>#sk-container-id-1 {color: black;background-color: white;}#sk-container-id-1 pre{padding: 0;}#sk-container-id-1 div.sk-toggleable {background-color: white;}#sk-container-id-1 label.sk-toggleable__label {cursor: pointer;display: block;width: 100%;margin-bottom: 0;padding: 0.3em;box-sizing: border-box;text-align: center;}#sk-container-id-1 label.sk-toggleable__label-arrow:before {content: \"▸\";float: left;margin-right: 0.25em;color: #696969;}#sk-container-id-1 label.sk-toggleable__label-arrow:hover:before {color: black;}#sk-container-id-1 div.sk-estimator:hover label.sk-toggleable__label-arrow:before {color: black;}#sk-container-id-1 div.sk-toggleable__content {max-height: 0;max-width: 0;overflow: hidden;text-align: left;background-color: #f0f8ff;}#sk-container-id-1 div.sk-toggleable__content pre {margin: 0.2em;color: black;border-radius: 0.25em;background-color: #f0f8ff;}#sk-container-id-1 input.sk-toggleable__control:checked~div.sk-toggleable__content {max-height: 200px;max-width: 100%;overflow: auto;}#sk-container-id-1 input.sk-toggleable__control:checked~label.sk-toggleable__label-arrow:before {content: \"▾\";}#sk-container-id-1 div.sk-estimator input.sk-toggleable__control:checked~label.sk-toggleable__label {background-color: #d4ebff;}#sk-container-id-1 div.sk-label input.sk-toggleable__control:checked~label.sk-toggleable__label {background-color: #d4ebff;}#sk-container-id-1 input.sk-hidden--visually {border: 0;clip: rect(1px 1px 1px 1px);clip: rect(1px, 1px, 1px, 1px);height: 1px;margin: -1px;overflow: hidden;padding: 0;position: absolute;width: 1px;}#sk-container-id-1 div.sk-estimator {font-family: monospace;background-color: #f0f8ff;border: 1px dotted black;border-radius: 0.25em;box-sizing: border-box;margin-bottom: 0.5em;}#sk-container-id-1 div.sk-estimator:hover {background-color: #d4ebff;}#sk-container-id-1 div.sk-parallel-item::after {content: \"\";width: 100%;border-bottom: 1px solid gray;flex-grow: 1;}#sk-container-id-1 div.sk-label:hover label.sk-toggleable__label {background-color: #d4ebff;}#sk-container-id-1 div.sk-serial::before {content: \"\";position: absolute;border-left: 1px solid gray;box-sizing: border-box;top: 0;bottom: 0;left: 50%;z-index: 0;}#sk-container-id-1 div.sk-serial {display: flex;flex-direction: column;align-items: center;background-color: white;padding-right: 0.2em;padding-left: 0.2em;position: relative;}#sk-container-id-1 div.sk-item {position: relative;z-index: 1;}#sk-container-id-1 div.sk-parallel {display: flex;align-items: stretch;justify-content: center;background-color: white;position: relative;}#sk-container-id-1 div.sk-item::before, #sk-container-id-1 div.sk-parallel-item::before {content: \"\";position: absolute;border-left: 1px solid gray;box-sizing: border-box;top: 0;bottom: 0;left: 50%;z-index: -1;}#sk-container-id-1 div.sk-parallel-item {display: flex;flex-direction: column;z-index: 1;position: relative;background-color: white;}#sk-container-id-1 div.sk-parallel-item:first-child::after {align-self: flex-end;width: 50%;}#sk-container-id-1 div.sk-parallel-item:last-child::after {align-self: flex-start;width: 50%;}#sk-container-id-1 div.sk-parallel-item:only-child::after {width: 0;}#sk-container-id-1 div.sk-dashed-wrapped {border: 1px dashed gray;margin: 0 0.4em 0.5em 0.4em;box-sizing: border-box;padding-bottom: 0.4em;background-color: white;}#sk-container-id-1 div.sk-label label {font-family: monospace;font-weight: bold;display: inline-block;line-height: 1.2em;}#sk-container-id-1 div.sk-label-container {text-align: center;}#sk-container-id-1 div.sk-container {/* jupyter's `normalize.less` sets `[hidden] { display: none; }` but bootstrap.min.css set `[hidden] { display: none !important; }` so we also need the `!important` here to be able to override the default hidden behavior on the sphinx rendered scikit-learn.org. See: https://github.com/scikit-learn/scikit-learn/issues/21755 */display: inline-block !important;position: relative;}#sk-container-id-1 div.sk-text-repr-fallback {display: none;}</style><div id=\"sk-container-id-1\" class=\"sk-top-container\"><div class=\"sk-text-repr-fallback\"><pre>MultinomialNB()</pre><b>In a Jupyter environment, please rerun this cell to show the HTML representation or trust the notebook. <br />On GitHub, the HTML representation is unable to render, please try loading this page with nbviewer.org.</b></div><div class=\"sk-container\" hidden><div class=\"sk-item\"><div class=\"sk-estimator sk-toggleable\"><input class=\"sk-toggleable__control sk-hidden--visually\" id=\"sk-estimator-id-1\" type=\"checkbox\" checked><label for=\"sk-estimator-id-1\" class=\"sk-toggleable__label sk-toggleable__label-arrow\">MultinomialNB</label><div class=\"sk-toggleable__content\"><pre>MultinomialNB()</pre></div></div></div></div></div>"
            ]
          },
          "metadata": {},
          "execution_count": 6
        }
      ]
    },
    {
      "cell_type": "markdown",
      "source": [
        "Step 7 : Evaluate the Model:\n",
        "Assess your model's performance by predicting on the test set and calculating relevant metrics like accuracy, precision, recall, and F1-score."
      ],
      "metadata": {
        "id": "T8b5FRYrSbV8"
      }
    },
    {
      "cell_type": "code",
      "source": [
        "y_pred = model.predict(X_test)\n",
        "accuracy = accuracy_score(y_test, y_pred)\n",
        "confusion = confusion_matrix(y_test, y_pred)\n",
        "report = classification_report(y_test, y_pred)\n",
        "\n",
        "print(f'Accuracy: {accuracy}')\n",
        "print(f'Confusion Matrix: \\n{confusion}')\n",
        "print(f'Classification Report: \\n{report}')\n"
      ],
      "metadata": {
        "execution": {
          "iopub.status.busy": "2023-11-06T14:47:54.456123Z",
          "iopub.execute_input": "2023-11-06T14:47:54.456479Z",
          "iopub.status.idle": "2023-11-06T14:47:54.504059Z",
          "shell.execute_reply.started": "2023-11-06T14:47:54.456452Z",
          "shell.execute_reply": "2023-11-06T14:47:54.502968Z"
        },
        "trusted": true,
        "colab": {
          "base_uri": "https://localhost:8080/"
        },
        "id": "cud2186VSbV8",
        "outputId": "140fbb77-4f13-40e3-fd3c-782b49b290ee"
      },
      "execution_count": 7,
      "outputs": [
        {
          "output_type": "stream",
          "name": "stdout",
          "text": [
            "Accuracy: 0.9668161434977578\n",
            "Confusion Matrix: \n",
            "[[965   0]\n",
            " [ 37 113]]\n",
            "Classification Report: \n",
            "              precision    recall  f1-score   support\n",
            "\n",
            "         ham       0.96      1.00      0.98       965\n",
            "        spam       1.00      0.75      0.86       150\n",
            "\n",
            "    accuracy                           0.97      1115\n",
            "   macro avg       0.98      0.88      0.92      1115\n",
            "weighted avg       0.97      0.97      0.96      1115\n",
            "\n"
          ]
        }
      ]
    },
    {
      "cell_type": "code",
      "source": [
        "cm = confusion_matrix(y_test, y_pred)\n",
        "plt.figure(figsize=(4, 2))\n",
        "sns.heatmap(cm, annot=True, fmt=\"d\", cmap=\"Blues\")\n",
        "plt.xlabel('Predicted')\n",
        "plt.ylabel('Actual')\n",
        "plt.title('Confusion Matrix')\n",
        "plt.show()\n"
      ],
      "metadata": {
        "execution": {
          "iopub.status.busy": "2023-11-06T15:19:26.901254Z",
          "iopub.execute_input": "2023-11-06T15:19:26.90204Z",
          "iopub.status.idle": "2023-11-06T15:19:27.150569Z",
          "shell.execute_reply.started": "2023-11-06T15:19:26.901958Z",
          "shell.execute_reply": "2023-11-06T15:19:27.149553Z"
        },
        "trusted": true,
        "colab": {
          "base_uri": "https://localhost:8080/",
          "height": 256
        },
        "id": "xLRevGssSbV9",
        "outputId": "97945dc4-7f17-402a-cca6-c9c67494352d"
      },
      "execution_count": 8,
      "outputs": [
        {
          "output_type": "display_data",
          "data": {
            "text/plain": [
              "<Figure size 400x200 with 2 Axes>"
            ],
            "image/png": "[encoded data removed]"
          },
          "metadata": {}
        }
      ]
    },
    {
      "cell_type": "markdown",
      "source": [
        "The model achieves a high accuracy of approximately 96.7%, indicating its ability to correctly classify messages as either \"ham\" (non-spam) or \"spam.\" It has a strong precision of 1.00 for \"spam,\" which means that when it predicts a message as spam, it is almost always correct. However, it has a lower recall of 0.75 for \"spam,\" suggesting that it misses some spam messages."
      ],
      "metadata": {
        "id": "M84dqGDwT0eC"
      }
    }
  ]
}